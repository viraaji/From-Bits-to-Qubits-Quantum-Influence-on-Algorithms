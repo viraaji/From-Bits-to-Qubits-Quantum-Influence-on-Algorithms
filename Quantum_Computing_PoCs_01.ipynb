{
  "nbformat": 4,
  "nbformat_minor": 0,
  "metadata": {
    "colab": {
      "provenance": [],
      "authorship_tag": "ABX9TyMFCrzFnkvQn4Y+DIy7OngC",
      "include_colab_link": true
    },
    "kernelspec": {
      "name": "python3",
      "display_name": "Python 3"
    },
    "language_info": {
      "name": "python"
    }
  },
  "cells": [
    {
      "cell_type": "markdown",
      "metadata": {
        "id": "view-in-github",
        "colab_type": "text"
      },
      "source": [
        "<a href=\"https://colab.research.google.com/github/viraaji/From-Bits-to-Qubits-Quantum-Influence-on-Algorithms/blob/main/Quantum_Computing_PoCs_01.ipynb\" target=\"_parent\"><img src=\"https://colab.research.google.com/assets/colab-badge.svg\" alt=\"Open In Colab\"/></a>"
      ]
    },
    {
      "cell_type": "markdown",
      "source": [
        "Installations"
      ],
      "metadata": {
        "id": "naF7dpwTWktd"
      }
    },
    {
      "cell_type": "code",
      "source": [
        "!pip install qiskit"
      ],
      "metadata": {
        "colab": {
          "base_uri": "https://localhost:8080/"
        },
        "id": "7JFgYmynWiv0",
        "outputId": "6cfb8452-e0ec-40e5-b66b-2f5dc96a7ccb"
      },
      "execution_count": 1,
      "outputs": [
        {
          "output_type": "stream",
          "name": "stdout",
          "text": [
            "Requirement already satisfied: qiskit in /usr/local/lib/python3.10/dist-packages (0.45.1)\n",
            "Requirement already satisfied: qiskit-terra==0.45.1 in /usr/local/lib/python3.10/dist-packages (from qiskit) (0.45.1)\n",
            "Requirement already satisfied: rustworkx>=0.13.0 in /usr/local/lib/python3.10/dist-packages (from qiskit-terra==0.45.1->qiskit) (0.13.2)\n",
            "Requirement already satisfied: numpy<2,>=1.17 in /usr/local/lib/python3.10/dist-packages (from qiskit-terra==0.45.1->qiskit) (1.23.5)\n",
            "Requirement already satisfied: ply>=3.10 in /usr/local/lib/python3.10/dist-packages (from qiskit-terra==0.45.1->qiskit) (3.11)\n",
            "Requirement already satisfied: psutil>=5 in /usr/local/lib/python3.10/dist-packages (from qiskit-terra==0.45.1->qiskit) (5.9.5)\n",
            "Requirement already satisfied: scipy>=1.5 in /usr/local/lib/python3.10/dist-packages (from qiskit-terra==0.45.1->qiskit) (1.11.4)\n",
            "Requirement already satisfied: sympy>=1.3 in /usr/local/lib/python3.10/dist-packages (from qiskit-terra==0.45.1->qiskit) (1.12)\n",
            "Requirement already satisfied: dill>=0.3 in /usr/local/lib/python3.10/dist-packages (from qiskit-terra==0.45.1->qiskit) (0.3.7)\n",
            "Requirement already satisfied: python-dateutil>=2.8.0 in /usr/local/lib/python3.10/dist-packages (from qiskit-terra==0.45.1->qiskit) (2.8.2)\n",
            "Requirement already satisfied: stevedore>=3.0.0 in /usr/local/lib/python3.10/dist-packages (from qiskit-terra==0.45.1->qiskit) (5.1.0)\n",
            "Requirement already satisfied: symengine!=0.10.0,>=0.9 in /usr/local/lib/python3.10/dist-packages (from qiskit-terra==0.45.1->qiskit) (0.11.0)\n",
            "Requirement already satisfied: typing-extensions in /usr/local/lib/python3.10/dist-packages (from qiskit-terra==0.45.1->qiskit) (4.5.0)\n",
            "Requirement already satisfied: six>=1.5 in /usr/local/lib/python3.10/dist-packages (from python-dateutil>=2.8.0->qiskit-terra==0.45.1->qiskit) (1.16.0)\n",
            "Requirement already satisfied: pbr!=2.1.0,>=2.0.0 in /usr/local/lib/python3.10/dist-packages (from stevedore>=3.0.0->qiskit-terra==0.45.1->qiskit) (6.0.0)\n",
            "Requirement already satisfied: mpmath>=0.19 in /usr/local/lib/python3.10/dist-packages (from sympy>=1.3->qiskit-terra==0.45.1->qiskit) (1.3.0)\n"
          ]
        }
      ]
    },
    {
      "cell_type": "code",
      "source": [
        "!pip install qiskit_ibm_runtime"
      ],
      "metadata": {
        "colab": {
          "base_uri": "https://localhost:8080/"
        },
        "id": "u7oboiSFXRnK",
        "outputId": "203c0516-ba1e-47b3-9d37-0941922bc496"
      },
      "execution_count": 2,
      "outputs": [
        {
          "output_type": "stream",
          "name": "stdout",
          "text": [
            "Requirement already satisfied: qiskit_ibm_runtime in /usr/local/lib/python3.10/dist-packages (0.16.1)\n",
            "Requirement already satisfied: qiskit>=0.44.1 in /usr/local/lib/python3.10/dist-packages (from qiskit_ibm_runtime) (0.45.1)\n",
            "Requirement already satisfied: requests>=2.19 in /usr/local/lib/python3.10/dist-packages (from qiskit_ibm_runtime) (2.31.0)\n",
            "Requirement already satisfied: requests-ntlm>=1.1.0 in /usr/local/lib/python3.10/dist-packages (from qiskit_ibm_runtime) (1.2.0)\n",
            "Requirement already satisfied: numpy>=1.13 in /usr/local/lib/python3.10/dist-packages (from qiskit_ibm_runtime) (1.23.5)\n",
            "Requirement already satisfied: urllib3>=1.21.1 in /usr/local/lib/python3.10/dist-packages (from qiskit_ibm_runtime) (1.26.18)\n",
            "Requirement already satisfied: python-dateutil>=2.8.0 in /usr/local/lib/python3.10/dist-packages (from qiskit_ibm_runtime) (2.8.2)\n",
            "Requirement already satisfied: websocket-client>=1.5.1 in /usr/local/lib/python3.10/dist-packages (from qiskit_ibm_runtime) (1.6.4)\n",
            "Requirement already satisfied: ibm-platform-services>=0.22.6 in /usr/local/lib/python3.10/dist-packages (from qiskit_ibm_runtime) (0.47.1)\n",
            "Requirement already satisfied: qiskit-ibm-provider>=0.7.2 in /usr/local/lib/python3.10/dist-packages (from qiskit_ibm_runtime) (0.7.2)\n",
            "Requirement already satisfied: ibm-cloud-sdk-core<4.0.0,>=3.17.0 in /usr/local/lib/python3.10/dist-packages (from ibm-platform-services>=0.22.6->qiskit_ibm_runtime) (3.18.0)\n",
            "Requirement already satisfied: six>=1.5 in /usr/local/lib/python3.10/dist-packages (from python-dateutil>=2.8.0->qiskit_ibm_runtime) (1.16.0)\n",
            "Requirement already satisfied: qiskit-terra==0.45.1 in /usr/local/lib/python3.10/dist-packages (from qiskit>=0.44.1->qiskit_ibm_runtime) (0.45.1)\n",
            "Requirement already satisfied: rustworkx>=0.13.0 in /usr/local/lib/python3.10/dist-packages (from qiskit-terra==0.45.1->qiskit>=0.44.1->qiskit_ibm_runtime) (0.13.2)\n",
            "Requirement already satisfied: ply>=3.10 in /usr/local/lib/python3.10/dist-packages (from qiskit-terra==0.45.1->qiskit>=0.44.1->qiskit_ibm_runtime) (3.11)\n",
            "Requirement already satisfied: psutil>=5 in /usr/local/lib/python3.10/dist-packages (from qiskit-terra==0.45.1->qiskit>=0.44.1->qiskit_ibm_runtime) (5.9.5)\n",
            "Requirement already satisfied: scipy>=1.5 in /usr/local/lib/python3.10/dist-packages (from qiskit-terra==0.45.1->qiskit>=0.44.1->qiskit_ibm_runtime) (1.11.4)\n",
            "Requirement already satisfied: sympy>=1.3 in /usr/local/lib/python3.10/dist-packages (from qiskit-terra==0.45.1->qiskit>=0.44.1->qiskit_ibm_runtime) (1.12)\n",
            "Requirement already satisfied: dill>=0.3 in /usr/local/lib/python3.10/dist-packages (from qiskit-terra==0.45.1->qiskit>=0.44.1->qiskit_ibm_runtime) (0.3.7)\n",
            "Requirement already satisfied: stevedore>=3.0.0 in /usr/local/lib/python3.10/dist-packages (from qiskit-terra==0.45.1->qiskit>=0.44.1->qiskit_ibm_runtime) (5.1.0)\n",
            "Requirement already satisfied: symengine!=0.10.0,>=0.9 in /usr/local/lib/python3.10/dist-packages (from qiskit-terra==0.45.1->qiskit>=0.44.1->qiskit_ibm_runtime) (0.11.0)\n",
            "Requirement already satisfied: typing-extensions in /usr/local/lib/python3.10/dist-packages (from qiskit-terra==0.45.1->qiskit>=0.44.1->qiskit_ibm_runtime) (4.5.0)\n",
            "Requirement already satisfied: websockets>=10.0 in /usr/local/lib/python3.10/dist-packages (from qiskit-ibm-provider>=0.7.2->qiskit_ibm_runtime) (12.0)\n",
            "Requirement already satisfied: charset-normalizer<4,>=2 in /usr/local/lib/python3.10/dist-packages (from requests>=2.19->qiskit_ibm_runtime) (3.3.2)\n",
            "Requirement already satisfied: idna<4,>=2.5 in /usr/local/lib/python3.10/dist-packages (from requests>=2.19->qiskit_ibm_runtime) (3.6)\n",
            "Requirement already satisfied: certifi>=2017.4.17 in /usr/local/lib/python3.10/dist-packages (from requests>=2.19->qiskit_ibm_runtime) (2023.11.17)\n",
            "Requirement already satisfied: cryptography>=1.3 in /usr/local/lib/python3.10/dist-packages (from requests-ntlm>=1.1.0->qiskit_ibm_runtime) (41.0.7)\n",
            "Requirement already satisfied: pyspnego>=0.1.6 in /usr/local/lib/python3.10/dist-packages (from requests-ntlm>=1.1.0->qiskit_ibm_runtime) (0.10.2)\n",
            "Requirement already satisfied: cffi>=1.12 in /usr/local/lib/python3.10/dist-packages (from cryptography>=1.3->requests-ntlm>=1.1.0->qiskit_ibm_runtime) (1.16.0)\n",
            "Requirement already satisfied: PyJWT<3.0.0,>=2.8.0 in /usr/local/lib/python3.10/dist-packages (from ibm-cloud-sdk-core<4.0.0,>=3.17.0->ibm-platform-services>=0.22.6->qiskit_ibm_runtime) (2.8.0)\n",
            "Requirement already satisfied: pycparser in /usr/local/lib/python3.10/dist-packages (from cffi>=1.12->cryptography>=1.3->requests-ntlm>=1.1.0->qiskit_ibm_runtime) (2.21)\n",
            "Requirement already satisfied: pbr!=2.1.0,>=2.0.0 in /usr/local/lib/python3.10/dist-packages (from stevedore>=3.0.0->qiskit-terra==0.45.1->qiskit>=0.44.1->qiskit_ibm_runtime) (6.0.0)\n",
            "Requirement already satisfied: mpmath>=0.19 in /usr/local/lib/python3.10/dist-packages (from sympy>=1.3->qiskit-terra==0.45.1->qiskit>=0.44.1->qiskit_ibm_runtime) (1.3.0)\n"
          ]
        }
      ]
    },
    {
      "cell_type": "code",
      "source": [
        "!pip install pylatexenc"
      ],
      "metadata": {
        "colab": {
          "base_uri": "https://localhost:8080/"
        },
        "id": "QVrScNLkbBV_",
        "outputId": "9dba113f-3c70-4a4e-f217-0792d73f9158"
      },
      "execution_count": 3,
      "outputs": [
        {
          "output_type": "stream",
          "name": "stdout",
          "text": [
            "Requirement already satisfied: pylatexenc in /usr/local/lib/python3.10/dist-packages (2.10)\n"
          ]
        }
      ]
    },
    {
      "cell_type": "code",
      "source": [
        "!pip install matplotlib"
      ],
      "metadata": {
        "colab": {
          "base_uri": "https://localhost:8080/"
        },
        "id": "nI9y9KOobL1o",
        "outputId": "ed0952c5-dc96-4128-fb90-75a9a7d0d7c5"
      },
      "execution_count": 4,
      "outputs": [
        {
          "output_type": "stream",
          "name": "stdout",
          "text": [
            "Requirement already satisfied: matplotlib in /usr/local/lib/python3.10/dist-packages (3.7.1)\n",
            "Requirement already satisfied: contourpy>=1.0.1 in /usr/local/lib/python3.10/dist-packages (from matplotlib) (1.2.0)\n",
            "Requirement already satisfied: cycler>=0.10 in /usr/local/lib/python3.10/dist-packages (from matplotlib) (0.12.1)\n",
            "Requirement already satisfied: fonttools>=4.22.0 in /usr/local/lib/python3.10/dist-packages (from matplotlib) (4.45.1)\n",
            "Requirement already satisfied: kiwisolver>=1.0.1 in /usr/local/lib/python3.10/dist-packages (from matplotlib) (1.4.5)\n",
            "Requirement already satisfied: numpy>=1.20 in /usr/local/lib/python3.10/dist-packages (from matplotlib) (1.23.5)\n",
            "Requirement already satisfied: packaging>=20.0 in /usr/local/lib/python3.10/dist-packages (from matplotlib) (23.2)\n",
            "Requirement already satisfied: pillow>=6.2.0 in /usr/local/lib/python3.10/dist-packages (from matplotlib) (9.4.0)\n",
            "Requirement already satisfied: pyparsing>=2.3.1 in /usr/local/lib/python3.10/dist-packages (from matplotlib) (3.1.1)\n",
            "Requirement already satisfied: python-dateutil>=2.7 in /usr/local/lib/python3.10/dist-packages (from matplotlib) (2.8.2)\n",
            "Requirement already satisfied: six>=1.5 in /usr/local/lib/python3.10/dist-packages (from python-dateutil>=2.7->matplotlib) (1.16.0)\n"
          ]
        }
      ]
    },
    {
      "cell_type": "code",
      "execution_count": 5,
      "metadata": {
        "colab": {
          "base_uri": "https://localhost:8080/"
        },
        "id": "AX7FoZxR-dlX",
        "outputId": "d941673c-bce8-49ae-d0cd-50af84a727e5"
      },
      "outputs": [
        {
          "output_type": "execute_result",
          "data": {
            "text/plain": [
              "<qiskit.circuit.instructionset.InstructionSet at 0x78152d633700>"
            ]
          },
          "metadata": {},
          "execution_count": 5
        }
      ],
      "source": [
        "from qiskit import QuantumCircuit, Aer, transpile, assemble\n",
        "from qiskit.visualization import plot_histogram\n",
        "\n",
        "\n",
        "# Create a Quantum Circuit acting on a quantum register of two qubits\n",
        "circ = QuantumCircuit(2, 2)\n",
        "\n",
        "# Add a H gate on qubit 0\n",
        "circ.h(0)\n",
        "\n",
        "# Add a CX (CNOT) gate on control qubit 0 and target qubit 1\n",
        "circ.cx(0, 1)\n",
        "\n",
        "# Map the quantum measurement to the classical bits\n",
        "circ.measure([0,1], [0,1])\n"
      ]
    },
    {
      "cell_type": "code",
      "source": [
        "# Draw the circuit\n",
        "print(circ.draw())\n"
      ],
      "metadata": {
        "colab": {
          "base_uri": "https://localhost:8080/"
        },
        "id": "obO53KN2PdXj",
        "outputId": "8ed625f0-48b5-4420-d245-8ef9ede5d1e4"
      },
      "execution_count": 6,
      "outputs": [
        {
          "output_type": "stream",
          "name": "stdout",
          "text": [
            "     ┌───┐     ┌─┐   \n",
            "q_0: ┤ H ├──■──┤M├───\n",
            "     └───┘┌─┴─┐└╥┘┌─┐\n",
            "q_1: ─────┤ X ├─╫─┤M├\n",
            "          └───┘ ║ └╥┘\n",
            "c: 2/═══════════╩══╩═\n",
            "                0  1 \n"
          ]
        }
      ]
    },
    {
      "cell_type": "markdown",
      "source": [
        "Shor’s Algorithm\n",
        "\n",
        "https://kaustubhrakhade.medium.com/shors-factoring-algorithm-94a0796a13b1\n",
        "\n",
        "https://github.com/qiskit-community/qiskit-community-tutorials/blob/master/algorithms/shor_algorithm.ipynb\n",
        "\n"
      ],
      "metadata": {
        "id": "k61aUT-7ZL_l"
      }
    },
    {
      "cell_type": "code",
      "source": [
        "# Brute force period finding algorithm\n",
        "def find_period_classical(x, N):\n",
        "    n = 1\n",
        "    t = x\n",
        "    while t != 1:\n",
        "        t *= x\n",
        "        t %= N\n",
        "        n += 1\n",
        "    return n"
      ],
      "metadata": {
        "id": "_mgI_DSZWzeq"
      },
      "execution_count": 7,
      "outputs": []
    },
    {
      "cell_type": "code",
      "source": [
        "import random, itertools\n",
        "\n",
        "# Sieve of Eratosthenes algorithm\n",
        "def sieve( ):\n",
        "    D = {  }\n",
        "    yield 2\n",
        "    for q in itertools.islice(itertools.count(3), 0, None, 2):\n",
        "        p = D.pop(q, None)\n",
        "        if p is None:\n",
        "            D[q*q] = q\n",
        "            yield q\n",
        "        else:\n",
        "            x = p + q\n",
        "            while x in D or not (x&1):\n",
        "                x += p\n",
        "            D[x] = p\n",
        "\n",
        "# Creates a list of prime numbers up to the given argument\n",
        "def get_primes_sieve(n):\n",
        "    return list(itertools.takewhile(lambda p: p<n, sieve()))\n",
        "\n",
        "def get_semiprime(n):\n",
        "    primes = get_primes_sieve(n)\n",
        "    l = len(primes)\n",
        "    p = primes[random.randrange(l)]\n",
        "    q = primes[random.randrange(l)]\n",
        "    return p*q\n",
        "\n",
        "N = get_semiprime(1000)\n",
        "\n",
        "print(\"semiprime N =\",N)"
      ],
      "metadata": {
        "colab": {
          "base_uri": "https://localhost:8080/"
        },
        "id": "7_wMWSmaZ9Ql",
        "outputId": "70fb0d0c-e717-4d35-878b-672109cad260"
      },
      "execution_count": 8,
      "outputs": [
        {
          "output_type": "stream",
          "name": "stdout",
          "text": [
            "semiprime N = 458581\n"
          ]
        }
      ]
    },
    {
      "cell_type": "code",
      "source": [
        "import math\n",
        "\n",
        "def shors_algorithm_classical(N):\n",
        "    x = random.randint(0,N) # step one\n",
        "    if(math.gcd(x,N) != 1): # step two\n",
        "        return x,0,math.gcd(x,N),N/math.gcd(x,N)\n",
        "    r = find_period_classical(x,N) # step three\n",
        "    while(r % 2 != 0):\n",
        "        r = find_period_classical(x,N)\n",
        "    p = math.gcd(x**int(r/2)+1,N) # step four, ignoring the case where (x^(r/2) +/- 1) is a multiple of N\n",
        "    q = math.gcd(x**int(r/2)-1,N)\n",
        "    return x,r,p,q\n",
        "\n",
        "x,r,p,q = shors_algorithm_classical(N)\n",
        "print(\"semiprime N = \",N,\", coprime x = \",x,\", period r = \",r,\", prime factors = \",p,\" and \",q,sep=\"\")"
      ],
      "metadata": {
        "colab": {
          "base_uri": "https://localhost:8080/"
        },
        "id": "6fYTa7xSaL65",
        "outputId": "973cfabc-061d-43cd-b428-d0bfaae9062f"
      },
      "execution_count": 9,
      "outputs": [
        {
          "output_type": "stream",
          "name": "stdout",
          "text": [
            "semiprime N = 458581, coprime x = 109434, period r = 76194, prime factors = 458581 and 1\n"
          ]
        }
      ]
    },
    {
      "cell_type": "code",
      "source": [
        "from qiskit import BasicAer, execute\n",
        "from qiskit import QuantumCircuit, ClassicalRegister, QuantumRegister\n",
        "from qiskit.tools.visualization import plot_histogram"
      ],
      "metadata": {
        "id": "YrLkCB1racwh"
      },
      "execution_count": 10,
      "outputs": []
    },
    {
      "cell_type": "code",
      "source": [
        "# qc = quantum circuit, qr = quantum register, cr = classical register, a = 2, 7, 8, 11 or 13\n",
        "def circuit_amod15(qc,qr,cr,a):\n",
        "    if a == 2:\n",
        "        qc.cswap(qr[4],qr[3],qr[2])\n",
        "        qc.cswap(qr[4],qr[2],qr[1])\n",
        "        qc.cswap(qr[4],qr[1],qr[0])\n",
        "    elif a == 7:\n",
        "        qc.cswap(qr[4],qr[1],qr[0])\n",
        "        qc.cswap(qr[4],qr[2],qr[1])\n",
        "        qc.cswap(qr[4],qr[3],qr[2])\n",
        "        qc.cx(qr[4],qr[3])\n",
        "        qc.cx(qr[4],qr[2])\n",
        "        qc.cx(qr[4],qr[1])\n",
        "        qc.cx(qr[4],qr[0])\n",
        "    elif a == 8:\n",
        "        qc.cswap(qr[4],qr[1],qr[0])\n",
        "        qc.cswap(qr[4],qr[2],qr[1])\n",
        "        qc.cswap(qr[4],qr[3],qr[2])\n",
        "    elif a == 11: # this is included for completeness\n",
        "        qc.cswap(qr[4],qr[2],qr[0])\n",
        "        qc.cswap(qr[4],qr[3],qr[1])\n",
        "        qc.cx(qr[4],qr[3])\n",
        "        qc.cx(qr[4],qr[2])\n",
        "        qc.cx(qr[4],qr[1])\n",
        "        qc.cx(qr[4],qr[0])\n",
        "    elif a == 13:\n",
        "        qc.cswap(qr[4],qr[3],qr[2])\n",
        "        qc.cswap(qr[4],qr[2],qr[1])\n",
        "        qc.cswap(qr[4],qr[1],qr[0])\n",
        "        qc.cx(qr[4],qr[3])\n",
        "        qc.cx(qr[4],qr[2])\n",
        "        qc.cx(qr[4],qr[1])\n",
        "        qc.cx(qr[4],qr[0])"
      ],
      "metadata": {
        "id": "WDyG3ADtajKs"
      },
      "execution_count": 11,
      "outputs": []
    },
    {
      "cell_type": "code",
      "source": [
        "# qc = quantum circuit, qr = quantum register, cr = classical register, a = 2, 7, 8, 11 or 13\n",
        "def circuit_aperiod15(qc,qr,cr,a):\n",
        "    if a == 11:\n",
        "        circuit_11period15(qc,qr,cr)\n",
        "        return\n",
        "\n",
        "    # Initialize q[0] to |1>\n",
        "    qc.x(qr[0])\n",
        "\n",
        "    # Apply a**4 mod 15\n",
        "    qc.h(qr[4])\n",
        "    #   controlled identity on the remaining 4 qubits, which is equivalent to doing nothing\n",
        "    qc.h(qr[4])\n",
        "    #   measure\n",
        "    qc.measure(qr[4],cr[0])\n",
        "    #   reinitialise q[4] to |0>\n",
        "    qc.reset(qr[4])\n",
        "\n",
        "    # Apply a**2 mod 15\n",
        "    qc.h(qr[4])\n",
        "    #   controlled unitary\n",
        "    qc.cx(qr[4],qr[2])\n",
        "    qc.cx(qr[4],qr[0])\n",
        "    #   feed forward\n",
        "    qc.p(math.pi/2.,qr[4]).c_if(cr, 1)\n",
        "    qc.h(qr[4])\n",
        "    #   measure\n",
        "    qc.measure(qr[4],cr[1])\n",
        "    #   reinitialise q[4] to |0>\n",
        "    qc.reset(qr[4])\n",
        "\n",
        "    # Apply a mod 15\n",
        "    qc.h(qr[4])\n",
        "    #   controlled unitary.\n",
        "    circuit_amod15(qc,qr,cr,a)\n",
        "    #   feed forward\n",
        "    qc.p(3.*math.pi/4.,qr[4]).c_if(cr, 3)\n",
        "    qc.p(math.pi/2.,qr[4]).c_if(cr, 2)\n",
        "    qc.p(math.pi/4.,qr[4]).c_if(cr, 1)\n",
        "    qc.h(qr[4])\n",
        "    #   measure\n",
        "    qc.measure(qr[4],cr[2])"
      ],
      "metadata": {
        "id": "T8KaQYGaakEH"
      },
      "execution_count": 12,
      "outputs": []
    },
    {
      "cell_type": "code",
      "source": [
        "def circuit_11period15(qc,qr,cr):\n",
        "    # Initialize q[0] to |1>\n",
        "    qc.x(qr[0])\n",
        "\n",
        "    # Apply a**4 mod 15\n",
        "    qc.h(qr[4])\n",
        "    #   controlled identity on the remaining 4 qubits, which is equivalent to doing nothing\n",
        "    qc.h(qr[4])\n",
        "    #   measure\n",
        "    qc.measure(qr[4],cr[0])\n",
        "    #   reinitialise q[4] to |0>\n",
        "    qc.reset(qr[4])\n",
        "\n",
        "    # Apply a**2 mod 15\n",
        "    qc.h(qr[4])\n",
        "    #   controlled identity on the remaining 4 qubits, which is equivalent to doing nothing\n",
        "    #   feed forward\n",
        "    qc.u1(math.pi/2.,qr[4]).c_if(cr, 1)\n",
        "    qc.h(qr[4])\n",
        "    #   measure\n",
        "    qc.measure(qr[4],cr[1])\n",
        "    #   reinitialise q[4] to |0>\n",
        "    qc.reset(qr[4])\n",
        "\n",
        "    # Apply 11 mod 15\n",
        "    qc.h(qr[4])\n",
        "    #   controlled unitary.\n",
        "    qc.cx(qr[4],qr[3])\n",
        "    qc.cx(qr[4],qr[1])\n",
        "    #   feed forward\n",
        "    qc.u(3.*math.pi/4.,qr[4]).c_if(cr, 3)\n",
        "    qc.u(math.pi/2.,qr[4]).c_if(cr, 2)\n",
        "    qc.u(math.pi/4.,qr[4]).c_if(cr, 1)\n",
        "    qc.h(qr[4])\n",
        "    #   measure\n",
        "    qc.measure(qr[4],cr[2])"
      ],
      "metadata": {
        "id": "dTOiGf2fanbp"
      },
      "execution_count": 13,
      "outputs": []
    },
    {
      "cell_type": "code",
      "source": [
        "q = QuantumRegister(5, 'q')\n",
        "c = ClassicalRegister(5, 'c')\n",
        "\n",
        "shor = QuantumCircuit(q, c)\n",
        "circuit_aperiod15(shor,q,c,7)\n",
        "shor.draw(output='mpl')"
      ],
      "metadata": {
        "colab": {
          "base_uri": "https://localhost:8080/",
          "height": 489
        },
        "id": "m31zbuVEaqgs",
        "outputId": "7dd90649-c9b3-4b60-abf6-62286031e81f"
      },
      "execution_count": 14,
      "outputs": [
        {
          "output_type": "stream",
          "name": "stderr",
          "text": [
            "/usr/local/lib/python3.10/dist-packages/qiskit/visualization/circuit/matplotlib.py:266: FutureWarning: The default matplotlib drawer scheme will be changed to \"iqp\" in a following release. To silence this warning, specify the current default explicitly as style=\"clifford\", or the new default as style=\"iqp\".\n",
            "  self._style, def_font_ratio = load_style(self._style)\n"
          ]
        },
        {
          "output_type": "execute_result",
          "data": {
            "text/plain": [
              "<Figure size 2126.94x535.111 with 1 Axes>"
            ],
            "image/png": "[encoded data removed]"
          },
          "metadata": {},
          "execution_count": 14
        }
      ]
    },
    {
      "cell_type": "code",
      "source": [
        "backend = BasicAer.get_backend('qasm_simulator')\n",
        "sim_job = execute([shor], backend)\n",
        "sim_result = sim_job.result()\n",
        "sim_data = sim_result.get_counts(shor)\n",
        "plot_histogram(sim_data)"
      ],
      "metadata": {
        "colab": {
          "base_uri": "https://localhost:8080/",
          "height": 496
        },
        "id": "LYoyy8kratIO",
        "outputId": "37cb2ec8-6611-49ad-bdd6-2e84b8b95e9b"
      },
      "execution_count": 15,
      "outputs": [
        {
          "output_type": "execute_result",
          "data": {
            "text/plain": [
              "<Figure size 700x500 with 1 Axes>"
            ],
            "image/png": "[encoded data removed]"
          },
          "metadata": {},
          "execution_count": 15
        }
      ]
    }
  ]
}